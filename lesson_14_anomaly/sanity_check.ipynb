{
 "cells": [
  {
   "cell_type": "code",
   "execution_count": 1,
   "metadata": {},
   "outputs": [],
   "source": [
    "import pandas as pd\n",
    "import numpy as np\n",
    "import os\n",
    "from tqdm.auto import tqdm\n",
    "from pmi_utils import get_unique_msv\n",
    "import matplotlib.pyplot as plt\n",
    "from scipy.stats import norm"
   ]
  },
  {
   "cell_type": "markdown",
   "metadata": {},
   "source": [
    "### loading data from data folder (for multiple files)"
   ]
  },
  {
   "cell_type": "code",
   "execution_count": 2,
   "metadata": {},
   "outputs": [],
   "source": [
    "def load_vendor_data(vendor, data_folder):\n",
    "    vendor_data = pd.DataFrame()\n",
    "    for file in tqdm(os.listdir(os.path.join(data_folder, vendor))):\n",
    "        filepath = os.path.join(data_folder, vendor, file)\n",
    "        vendor_part = pd.read_csv(filepath, index_col=0)\n",
    "        vendor_part['vendor'] = [vendor] * len(vendor_part)\n",
    "        vendor_data = vendor_data.append(vendor_part)\n",
    "    \n",
    "    return vendor_data"
   ]
  },
  {
   "cell_type": "code",
   "execution_count": 3,
   "metadata": {},
   "outputs": [
    {
     "data": {
      "application/vnd.jupyter.widget-view+json": {
       "model_id": "e6beda71c065461999aaef3f7c319615",
       "version_major": 2,
       "version_minor": 0
      },
      "text/plain": [
       "HBox(children=(FloatProgress(value=0.0, max=43.0), HTML(value='')))"
      ]
     },
     "metadata": {},
     "output_type": "display_data"
    },
    {
     "name": "stdout",
     "output_type": "stream",
     "text": [
      "\n"
     ]
    },
    {
     "data": {
      "application/vnd.jupyter.widget-view+json": {
       "model_id": "50638df4bb4343aa97d0997b2b9c8c45",
       "version_major": 2,
       "version_minor": 0
      },
      "text/plain": [
       "HBox(children=(FloatProgress(value=0.0, max=32.0), HTML(value='')))"
      ]
     },
     "metadata": {},
     "output_type": "display_data"
    },
    {
     "name": "stdout",
     "output_type": "stream",
     "text": [
      "\n"
     ]
    },
    {
     "data": {
      "application/vnd.jupyter.widget-view+json": {
       "model_id": "a8f3d83c47874f558c0d2926bd4c11fe",
       "version_major": 2,
       "version_minor": 0
      },
      "text/plain": [
       "HBox(children=(FloatProgress(value=0.0, max=32.0), HTML(value='')))"
      ]
     },
     "metadata": {},
     "output_type": "display_data"
    },
    {
     "name": "stdout",
     "output_type": "stream",
     "text": [
      "\n"
     ]
    },
    {
     "data": {
      "application/vnd.jupyter.widget-view+json": {
       "model_id": "b5e4f58771e64115bcd16e9a9af85f49",
       "version_major": 2,
       "version_minor": 0
      },
      "text/plain": [
       "HBox(children=(FloatProgress(value=0.0, max=5.0), HTML(value='')))"
      ]
     },
     "metadata": {},
     "output_type": "display_data"
    },
    {
     "name": "stderr",
     "output_type": "stream",
     "text": [
      "/Users/new/Dropbox/pajari_drop/main_env/lib/python3.7/site-packages/numpy/lib/arraysetops.py:569: FutureWarning: elementwise comparison failed; returning scalar instead, but in the future will perform elementwise comparison\n",
      "  mask |= (ar1 == a)\n"
     ]
    },
    {
     "name": "stdout",
     "output_type": "stream",
     "text": [
      "\n"
     ]
    }
   ],
   "source": [
    "months = {'may': 5, 'june': 6, 'april': 4, 'march': 3}\n",
    "vendors_df = pd.DataFrame()\n",
    "important_cols = ['locode', 'phrase', 'average_msv']\n",
    "\n",
    "for month, month_id in months.items():\n",
    "    data_folder = f'../data/ua_vendors/{month}'\n",
    "    month_vendors_data = load_vendor_data('results_27_2020', data_folder)[important_cols]\n",
    "    month_vendors_data.rename(columns={'average_msv': f'avg_msv_{month}'}, inplace=True)\n",
    "    if not len(vendors_df):\n",
    "        vendors_df = month_vendors_data\n",
    "    else:\n",
    "        vendors_df = vendors_df.merge(month_vendors_data, on=['locode', 'phrase'])"
   ]
  },
  {
   "cell_type": "markdown",
   "metadata": {},
   "source": [
    "### Loading data as single file"
   ]
  },
  {
   "cell_type": "code",
   "execution_count": 2,
   "metadata": {},
   "outputs": [
    {
     "data": {
      "application/vnd.jupyter.widget-view+json": {
       "model_id": "f702bb5ab82b44e5ba8a0fcfb898f2f5",
       "version_major": 2,
       "version_minor": 0
      },
      "text/plain": [
       "  0%|          | 0/2 [00:00<?, ?it/s]"
      ]
     },
     "metadata": {},
     "output_type": "display_data"
    },
    {
     "name": "stderr",
     "output_type": "stream",
     "text": [
      "b'Skipping line 244321: expected 19 fields, saw 20\\nSkipping line 244385: expected 19 fields, saw 20\\n'\n",
      "b'Skipping line 237738: expected 19 fields, saw 20\\nSkipping line 237802: expected 19 fields, saw 20\\n'\n"
     ]
    }
   ],
   "source": [
    "months = {'june': 6, 'july': 7}\n",
    "\n",
    "vendors_df = pd.DataFrame()\n",
    "important_cols = ['locode', 'phrase', 'average_msv']\n",
    "\n",
    "for month, month_id in tqdm(months.items()):\n",
    "    data_file = f'data/{month}.csv'\n",
    "    month_data = pd.read_csv(data_file, error_bad_lines=False)[important_cols]\n",
    "    month_data.rename(columns={'average_msv': f'avg_msv_{month}'}, inplace=True)\n",
    "    if not len(vendors_df):\n",
    "        vendors_df = month_data\n",
    "    else:\n",
    "        vendors_df = vendors_df.merge(month_data, on=['locode', 'phrase'])"
   ]
  },
  {
   "cell_type": "code",
   "execution_count": 3,
   "metadata": {},
   "outputs": [
    {
     "data": {
      "text/html": [
       "<div>\n",
       "<style scoped>\n",
       "    .dataframe tbody tr th:only-of-type {\n",
       "        vertical-align: middle;\n",
       "    }\n",
       "\n",
       "    .dataframe tbody tr th {\n",
       "        vertical-align: top;\n",
       "    }\n",
       "\n",
       "    .dataframe thead th {\n",
       "        text-align: right;\n",
       "    }\n",
       "</style>\n",
       "<table border=\"1\" class=\"dataframe\">\n",
       "  <thead>\n",
       "    <tr style=\"text-align: right;\">\n",
       "      <th></th>\n",
       "      <th>locode</th>\n",
       "      <th>phrase</th>\n",
       "      <th>avg_msv_june</th>\n",
       "      <th>avg_msv_july</th>\n",
       "    </tr>\n",
       "  </thead>\n",
       "  <tbody>\n",
       "    <tr>\n",
       "      <th>0</th>\n",
       "      <td>AE</td>\n",
       "      <td>0 annual fee credit card</td>\n",
       "      <td>10</td>\n",
       "      <td>10</td>\n",
       "    </tr>\n",
       "    <tr>\n",
       "      <th>1</th>\n",
       "      <td>AE</td>\n",
       "      <td>0% apr credit cards</td>\n",
       "      <td>10</td>\n",
       "      <td>10</td>\n",
       "    </tr>\n",
       "    <tr>\n",
       "      <th>2</th>\n",
       "      <td>AE</td>\n",
       "      <td>0% credit card offers</td>\n",
       "      <td>10</td>\n",
       "      <td>10</td>\n",
       "    </tr>\n",
       "    <tr>\n",
       "      <th>3</th>\n",
       "      <td>AE</td>\n",
       "      <td>0% credit cards</td>\n",
       "      <td>20</td>\n",
       "      <td>20</td>\n",
       "    </tr>\n",
       "    <tr>\n",
       "      <th>4</th>\n",
       "      <td>AE</td>\n",
       "      <td>0% interest credit cards</td>\n",
       "      <td>50</td>\n",
       "      <td>50</td>\n",
       "    </tr>\n",
       "  </tbody>\n",
       "</table>\n",
       "</div>"
      ],
      "text/plain": [
       "  locode                    phrase  avg_msv_june  avg_msv_july\n",
       "0     AE  0 annual fee credit card            10            10\n",
       "1     AE       0% apr credit cards            10            10\n",
       "2     AE     0% credit card offers            10            10\n",
       "3     AE           0% credit cards            20            20\n",
       "4     AE  0% interest credit cards            50            50"
      ]
     },
     "execution_count": 3,
     "metadata": {},
     "output_type": "execute_result"
    }
   ],
   "source": [
    "vendors_df.head(5)"
   ]
  },
  {
   "cell_type": "code",
   "execution_count": 4,
   "metadata": {},
   "outputs": [
    {
     "name": "stdout",
     "output_type": "stream",
     "text": [
      "\n",
      "Get unique existing msv values...\n",
      "[        0        10        20        30        40        50        70\n",
      "        90       110       140       170       210       260       320\n",
      "       390       480       590       720       880      1000      1300\n",
      "      1600      1900      2400      2900      3600      4400      5400\n",
      "      6600      8100      9900     12100     14800     18100     22200\n",
      "     27100     33100     40500     49500     60500     74000     90500\n",
      "    110000    135000    165000    201000    246000    301000    368000\n",
      "    450000    550000    673000    823000   1000000   1220000   1500000\n",
      "   1830000   2240000   2740000   3350000   4090000   5000000   6120000\n",
      "   7480000   9140000  11100000  13600000  16600000  20400000  24900000\n",
      "  30400000  37200000  45500000  55600000  83100000 101000000 124000000\n",
      " 151000000 185000000 226000000]\n"
     ]
    }
   ],
   "source": [
    "def round_to_next_existing(val, msv_unique_values):\n",
    "    '''used for impressions only'''\n",
    "    if val: # Not 0 and not None  \n",
    "        if len(msv_unique_values[msv_unique_values>val])>0: # val is less than the largest existing value \n",
    "            return msv_unique_values[msv_unique_values>=val][0]\n",
    "        else: # val is larger than the largest existing value \n",
    "            return msv_unique_values[-1]\n",
    "    else:  # 0 or None  \n",
    "        return val\n",
    "\n",
    "def categorize(rounded_x, msv_unique_values):\n",
    "    return np.where(msv_unique_values == rounded_x)[0][0]\n",
    "\n",
    "msv_unique_values = get_unique_msv()"
   ]
  },
  {
   "cell_type": "code",
   "execution_count": 5,
   "metadata": {},
   "outputs": [],
   "source": [
    "avg_msv_cols = [col_name for col_name in list(vendors_df) if 'avg_msv' in col_name]\n",
    "# replacing 0 to 10 because we need to follow 2 rules:\n",
    "# 1. that if one month msv = 0 and another = 0 so ratio has to be 1\n",
    "# 2. that if one month msv = 0 and another > 0 so first month has to be 10\n",
    "vendors_df[avg_msv_cols] = vendors_df[avg_msv_cols].replace(0, 10)"
   ]
  },
  {
   "cell_type": "markdown",
   "metadata": {},
   "source": [
    "#### Categorizing columns"
   ]
  },
  {
   "cell_type": "code",
   "execution_count": 6,
   "metadata": {},
   "outputs": [
    {
     "name": "stdout",
     "output_type": "stream",
     "text": [
      "avg_msv_june\n",
      "avg_msv_july\n"
     ]
    }
   ],
   "source": [
    "avg_msv_cat_cols = []\n",
    "for col in avg_msv_cols:\n",
    "    print(col)\n",
    "    round_col = f'{col}_round'\n",
    "    cat_col = f'{col}_cat'\n",
    "    \n",
    "    vendors_df[round_col] = vendors_df[col].apply(func=round_to_next_existing, args=(msv_unique_values, ))\n",
    "    vendors_df[cat_col] = vendors_df[round_col].apply(func=categorize, args=(msv_unique_values, ))\n",
    "    avg_msv_cat_cols.append(cat_col)"
   ]
  },
  {
   "cell_type": "markdown",
   "metadata": {},
   "source": [
    "####  calculating and choosing max ratio"
   ]
  },
  {
   "cell_type": "code",
   "execution_count": 7,
   "metadata": {},
   "outputs": [],
   "source": [
    "for cat_col in avg_msv_cat_cols:\n",
    "    current_month = cat_col.split('_')[2]\n",
    "    current_month_id = months[current_month]\n",
    "    prev_month = [month for month, month_id in months.items() if month_id == current_month_id - 1]\n",
    "    if not prev_month:\n",
    "        continue\n",
    "    else:\n",
    "        prev_month = prev_month[0]\n",
    "\n",
    "    prev_month_cat_col = [cat_col for cat_col in avg_msv_cat_cols if prev_month in cat_col][0]\n",
    "\n",
    "    change_df = pd.DataFrame()\n",
    "    change_df['inc'] = vendors_df[cat_col] / vendors_df[prev_month_cat_col]\n",
    "    change_df['dec'] = vendors_df[prev_month_cat_col] / vendors_df[cat_col]\n",
    "\n",
    "    change_col = f'{current_month}_{prev_month}_cat_change_ratio'\n",
    "\n",
    "    vendors_df[change_col] = change_df.max(axis=1) "
   ]
  },
  {
   "cell_type": "code",
   "execution_count": 11,
   "metadata": {},
   "outputs": [],
   "source": [
    "gold_ratio_col = 'july_june_cat_change_ratio'\n",
    "gold_ratio_values = vendors_df.loc[vendors_df[gold_ratio_col] > 3].copy()\n",
    "# gold_mu = gold_ratio_values[gold_ratio_col].mean(axis=0)\n",
    "# gold_std = gold_ratio_values[gold_ratio_col].std(axis=0)\n",
    "\n",
    "gold_mu = 8.428\n",
    "gold_std = 6.814\n",
    "\n",
    "gold_exp = 0.04"
   ]
  },
  {
   "cell_type": "code",
   "execution_count": 12,
   "metadata": {},
   "outputs": [
    {
     "name": "stdout",
     "output_type": "stream",
     "text": [
      "mu = 8.428, std = 6.814, exp = 0.04\n"
     ]
    }
   ],
   "source": [
    "print(f'mu = {gold_mu}, std = {gold_std}, exp = {gold_exp}')"
   ]
  },
  {
   "cell_type": "code",
   "execution_count": 13,
   "metadata": {},
   "outputs": [],
   "source": [
    "ratio_cols = [col_name for col_name in list(vendors_df) if 'ratio' in col_name]"
   ]
  },
  {
   "cell_type": "code",
   "execution_count": 17,
   "metadata": {},
   "outputs": [
    {
     "name": "stdout",
     "output_type": "stream",
     "text": [
      "june july 136 0.108% of distributed\n"
     ]
    }
   ],
   "source": [
    "prob_df = pd.DataFrame()\n",
    "anomalies_count = list()\n",
    "for col_name in ratio_cols:\n",
    "    high_ratio_values = vendors_df.loc[vendors_df[col_name] > 3].copy()\n",
    "    high_ratio_values[f'prob_{col_name}'] = high_ratio_values[col_name].apply(lambda x: np.prod(norm.pdf(x, \n",
    "                                                                                                         gold_mu, \n",
    "                                                                                                         gold_std)))\n",
    "    data = col_name.split('_')\n",
    "    month_to = data[0]\n",
    "    month_from = data[1]\n",
    "    anomalies = high_ratio_values[high_ratio_values[f'prob_{col_name}'] < gold_exp]\n",
    "    print(month_from, month_to, len(anomalies), f'{round(len(anomalies) / len(high_ratio_values), 4)}% of distributed')\n",
    "    anomalies_count.append(len(anomalies))"
   ]
  },
  {
   "cell_type": "code",
   "execution_count": 15,
   "metadata": {},
   "outputs": [
    {
     "data": {
      "text/html": [
       "<div>\n",
       "<style scoped>\n",
       "    .dataframe tbody tr th:only-of-type {\n",
       "        vertical-align: middle;\n",
       "    }\n",
       "\n",
       "    .dataframe tbody tr th {\n",
       "        vertical-align: top;\n",
       "    }\n",
       "\n",
       "    .dataframe thead th {\n",
       "        text-align: right;\n",
       "    }\n",
       "</style>\n",
       "<table border=\"1\" class=\"dataframe\">\n",
       "  <thead>\n",
       "    <tr style=\"text-align: right;\">\n",
       "      <th></th>\n",
       "      <th>locode</th>\n",
       "      <th>phrase</th>\n",
       "      <th>avg_msv_june</th>\n",
       "      <th>avg_msv_july</th>\n",
       "      <th>avg_msv_june_round</th>\n",
       "      <th>avg_msv_june_cat</th>\n",
       "      <th>avg_msv_july_round</th>\n",
       "      <th>avg_msv_july_cat</th>\n",
       "      <th>july_june_cat_change_ratio</th>\n",
       "    </tr>\n",
       "  </thead>\n",
       "  <tbody>\n",
       "    <tr>\n",
       "      <th>0</th>\n",
       "      <td>AE</td>\n",
       "      <td>0 annual fee credit card</td>\n",
       "      <td>10</td>\n",
       "      <td>10</td>\n",
       "      <td>10</td>\n",
       "      <td>1</td>\n",
       "      <td>10</td>\n",
       "      <td>1</td>\n",
       "      <td>1.0</td>\n",
       "    </tr>\n",
       "    <tr>\n",
       "      <th>1</th>\n",
       "      <td>AE</td>\n",
       "      <td>0% apr credit cards</td>\n",
       "      <td>10</td>\n",
       "      <td>10</td>\n",
       "      <td>10</td>\n",
       "      <td>1</td>\n",
       "      <td>10</td>\n",
       "      <td>1</td>\n",
       "      <td>1.0</td>\n",
       "    </tr>\n",
       "    <tr>\n",
       "      <th>2</th>\n",
       "      <td>AE</td>\n",
       "      <td>0% credit card offers</td>\n",
       "      <td>10</td>\n",
       "      <td>10</td>\n",
       "      <td>10</td>\n",
       "      <td>1</td>\n",
       "      <td>10</td>\n",
       "      <td>1</td>\n",
       "      <td>1.0</td>\n",
       "    </tr>\n",
       "    <tr>\n",
       "      <th>3</th>\n",
       "      <td>AE</td>\n",
       "      <td>0% credit cards</td>\n",
       "      <td>20</td>\n",
       "      <td>20</td>\n",
       "      <td>20</td>\n",
       "      <td>2</td>\n",
       "      <td>20</td>\n",
       "      <td>2</td>\n",
       "      <td>1.0</td>\n",
       "    </tr>\n",
       "    <tr>\n",
       "      <th>4</th>\n",
       "      <td>AE</td>\n",
       "      <td>0% interest credit cards</td>\n",
       "      <td>50</td>\n",
       "      <td>50</td>\n",
       "      <td>50</td>\n",
       "      <td>5</td>\n",
       "      <td>50</td>\n",
       "      <td>5</td>\n",
       "      <td>1.0</td>\n",
       "    </tr>\n",
       "    <tr>\n",
       "      <th>...</th>\n",
       "      <td>...</td>\n",
       "      <td>...</td>\n",
       "      <td>...</td>\n",
       "      <td>...</td>\n",
       "      <td>...</td>\n",
       "      <td>...</td>\n",
       "      <td>...</td>\n",
       "      <td>...</td>\n",
       "      <td>...</td>\n",
       "    </tr>\n",
       "    <tr>\n",
       "      <th>9817191</th>\n",
       "      <td>ZW HRE</td>\n",
       "      <td>wework</td>\n",
       "      <td>40</td>\n",
       "      <td>40</td>\n",
       "      <td>40</td>\n",
       "      <td>4</td>\n",
       "      <td>40</td>\n",
       "      <td>4</td>\n",
       "      <td>1.0</td>\n",
       "    </tr>\n",
       "    <tr>\n",
       "      <th>9817192</th>\n",
       "      <td>ZW HRE</td>\n",
       "      <td>wework office space</td>\n",
       "      <td>10</td>\n",
       "      <td>10</td>\n",
       "      <td>10</td>\n",
       "      <td>1</td>\n",
       "      <td>10</td>\n",
       "      <td>1</td>\n",
       "      <td>1.0</td>\n",
       "    </tr>\n",
       "    <tr>\n",
       "      <th>9817193</th>\n",
       "      <td>ZW HRE</td>\n",
       "      <td>wework space</td>\n",
       "      <td>10</td>\n",
       "      <td>10</td>\n",
       "      <td>10</td>\n",
       "      <td>1</td>\n",
       "      <td>10</td>\n",
       "      <td>1</td>\n",
       "      <td>1.0</td>\n",
       "    </tr>\n",
       "    <tr>\n",
       "      <th>9817194</th>\n",
       "      <td>ZW HRE</td>\n",
       "      <td>workspace for rent</td>\n",
       "      <td>10</td>\n",
       "      <td>10</td>\n",
       "      <td>10</td>\n",
       "      <td>1</td>\n",
       "      <td>10</td>\n",
       "      <td>1</td>\n",
       "      <td>1.0</td>\n",
       "    </tr>\n",
       "    <tr>\n",
       "      <th>9817195</th>\n",
       "      <td>ZW HRE</td>\n",
       "      <td>workspace rental</td>\n",
       "      <td>10</td>\n",
       "      <td>10</td>\n",
       "      <td>10</td>\n",
       "      <td>1</td>\n",
       "      <td>10</td>\n",
       "      <td>1</td>\n",
       "      <td>1.0</td>\n",
       "    </tr>\n",
       "  </tbody>\n",
       "</table>\n",
       "<p>9817196 rows × 9 columns</p>\n",
       "</div>"
      ],
      "text/plain": [
       "         locode                    phrase  avg_msv_june  avg_msv_july  \\\n",
       "0            AE  0 annual fee credit card            10            10   \n",
       "1            AE       0% apr credit cards            10            10   \n",
       "2            AE     0% credit card offers            10            10   \n",
       "3            AE           0% credit cards            20            20   \n",
       "4            AE  0% interest credit cards            50            50   \n",
       "...         ...                       ...           ...           ...   \n",
       "9817191  ZW HRE                    wework            40            40   \n",
       "9817192  ZW HRE       wework office space            10            10   \n",
       "9817193  ZW HRE              wework space            10            10   \n",
       "9817194  ZW HRE        workspace for rent            10            10   \n",
       "9817195  ZW HRE          workspace rental            10            10   \n",
       "\n",
       "         avg_msv_june_round  avg_msv_june_cat  avg_msv_july_round  \\\n",
       "0                        10                 1                  10   \n",
       "1                        10                 1                  10   \n",
       "2                        10                 1                  10   \n",
       "3                        20                 2                  20   \n",
       "4                        50                 5                  50   \n",
       "...                     ...               ...                 ...   \n",
       "9817191                  40                 4                  40   \n",
       "9817192                  10                 1                  10   \n",
       "9817193                  10                 1                  10   \n",
       "9817194                  10                 1                  10   \n",
       "9817195                  10                 1                  10   \n",
       "\n",
       "         avg_msv_july_cat  july_june_cat_change_ratio  \n",
       "0                       1                         1.0  \n",
       "1                       1                         1.0  \n",
       "2                       1                         1.0  \n",
       "3                       2                         1.0  \n",
       "4                       5                         1.0  \n",
       "...                   ...                         ...  \n",
       "9817191                 4                         1.0  \n",
       "9817192                 1                         1.0  \n",
       "9817193                 1                         1.0  \n",
       "9817194                 1                         1.0  \n",
       "9817195                 1                         1.0  \n",
       "\n",
       "[9817196 rows x 9 columns]"
      ]
     },
     "execution_count": 15,
     "metadata": {},
     "output_type": "execute_result"
    }
   ],
   "source": [
    "vendors_df"
   ]
  },
  {
   "cell_type": "markdown",
   "metadata": {},
   "source": [
    "### eps findings"
   ]
  },
  {
   "cell_type": "code",
   "execution_count": 31,
   "metadata": {},
   "outputs": [],
   "source": [
    "ratio_test_col = 'june_may_cat_change_ratio'\n",
    "test_high_ratio = vendors_df.loc[vendors_df[ratio_test_col] > 3].copy()\n",
    "prob_test_col = f'prob_{ratio_test_col}' # col for choosing eps param\n",
    "\n",
    "test_mu = test_high_ratio[ratio_test_col].mean()\n",
    "test_std = test_high_ratio[ratio_test_col].std()\n",
    "\n",
    "test_high_ratio[prob_test_col] = test_high_ratio[ratio_test_col].apply(lambda x: np.prod(norm.pdf(x, test_mu, test_std)))"
   ]
  },
  {
   "cell_type": "code",
   "execution_count": 32,
   "metadata": {},
   "outputs": [
    {
     "name": "stdout",
     "output_type": "stream",
     "text": [
      "eps = 0.1, perc_outliers = 0.035%, ratio min = 3.050, ratio std = 6.814\n",
      "eps = 0.07943282347242814, perc_outliers = 0.035%, ratio min = 3.050, ratio std = 6.814\n",
      "eps = 0.0630957344480193, perc_outliers = 0.035%, ratio min = 3.050, ratio std = 6.814\n",
      "eps = 0.0501187233627272, perc_outliers = 0.017%, ratio min = 3.050, ratio std = 9.288\n",
      "eps = 0.03981071705534969, perc_outliers = 0.005%, ratio min = 14.500, ratio std = 8.186\n",
      "eps = 0.031622776601683764, perc_outliers = 0.004%, ratio min = 16.000, ratio std = 8.228\n",
      "eps = 0.025118864315095774, perc_outliers = 0.003%, ratio min = 17.333, ratio std = 8.341\n",
      "eps = 0.01995262314968877, perc_outliers = 0.003%, ratio min = 19.000, ratio std = 8.392\n",
      "eps = 0.01584893192461111, perc_outliers = 0.002%, ratio min = 19.500, ratio std = 8.505\n",
      "eps = 0.01258925411794165, perc_outliers = 0.002%, ratio min = 20.500, ratio std = 8.582\n",
      "eps = 0.009999999999999981, perc_outliers = 0.002%, ratio min = 21.500, ratio std = 8.657\n",
      "eps = 0.007943282347242798, perc_outliers = 0.002%, ratio min = 23.000, ratio std = 8.741\n",
      "eps = 0.006309573444801918, perc_outliers = 0.002%, ratio min = 23.000, ratio std = 8.741\n",
      "eps = 0.00501187233627271, perc_outliers = 0.002%, ratio min = 24.000, ratio std = 8.831\n",
      "eps = 0.003981071705534961, perc_outliers = 0.001%, ratio min = 24.500, ratio std = 8.936\n",
      "eps = 0.00316227766016837, perc_outliers = 0.001%, ratio min = 25.000, ratio std = 8.947\n",
      "eps = 0.002511886431509572, perc_outliers = 0.001%, ratio min = 26.000, ratio std = 9.089\n",
      "eps = 0.001995262314968873, perc_outliers = 0.001%, ratio min = 27.000, ratio std = 9.261\n",
      "eps = 0.0015848931924611078, perc_outliers = 0.001%, ratio min = 27.000, ratio std = 9.261\n",
      "eps = 0.0012589254117941625, perc_outliers = 0.001%, ratio min = 28.000, ratio std = 9.321\n",
      "eps = 0.0009999999999999961, perc_outliers = 0.001%, ratio min = 28.000, ratio std = 9.321\n",
      "eps = 0.0007943282347242783, perc_outliers = 0.001%, ratio min = 29.000, ratio std = 9.427\n",
      "eps = 0.0006309573444801905, perc_outliers = 0.001%, ratio min = 29.000, ratio std = 9.427\n",
      "eps = 0.00050118723362727, perc_outliers = 0.001%, ratio min = 30.000, ratio std = 9.481\n",
      "eps = 0.00039810717055349535, perc_outliers = 0.001%, ratio min = 30.000, ratio std = 9.481\n",
      "eps = 0.00031622776601683637, perc_outliers = 0.001%, ratio min = 31.000, ratio std = 9.677\n",
      "eps = 0.0002511886431509567, perc_outliers = 0.001%, ratio min = 31.000, ratio std = 9.677\n",
      "eps = 0.0001995262314968869, perc_outliers = 0.001%, ratio min = 32.000, ratio std = 10.061\n",
      "eps = 0.00015848931924611047, perc_outliers = 0.001%, ratio min = 32.000, ratio std = 10.061\n",
      "eps = 0.000125892541179416, perc_outliers = 0.000%, ratio min = 33.000, ratio std = 10.334\n",
      "eps = 9.999999999999941e-05, perc_outliers = 0.000%, ratio min = 33.000, ratio std = 10.334\n",
      "eps = 7.943282347242758e-05, perc_outliers = 0.000%, ratio min = 34.000, ratio std = 10.591\n",
      "eps = 6.309573444801893e-05, perc_outliers = 0.000%, ratio min = 34.000, ratio std = 10.591\n",
      "eps = 5.011872336272695e-05, perc_outliers = 0.000%, ratio min = 35.000, ratio std = 10.751\n",
      "eps = 3.981071705534946e-05, perc_outliers = 0.000%, ratio min = 35.000, ratio std = 10.751\n",
      "eps = 3.1622776601683545e-05, perc_outliers = 0.000%, ratio min = 35.000, ratio std = 10.751\n",
      "eps = 2.5118864315095622e-05, perc_outliers = 0.000%, ratio min = 36.000, ratio std = 10.962\n",
      "eps = 1.995262314968867e-05, perc_outliers = 0.000%, ratio min = 36.000, ratio std = 10.962\n",
      "eps = 1.5848931924611016e-05, perc_outliers = 0.000%, ratio min = 37.000, ratio std = 11.361\n",
      "eps = 1.2589254117941563e-05, perc_outliers = 0.000%, ratio min = 37.000, ratio std = 11.361\n",
      "eps = 9.999999999999921e-06, perc_outliers = 0.000%, ratio min = 37.000, ratio std = 11.361\n",
      "eps = 7.943282347242759e-06, perc_outliers = 0.000%, ratio min = 38.000, ratio std = 12.126\n",
      "eps = 6.3095734448018805e-06, perc_outliers = 0.000%, ratio min = 38.000, ratio std = 12.126\n",
      "eps = 5.011872336272675e-06, perc_outliers = 0.000%, ratio min = 38.000, ratio std = 12.126\n",
      "eps = 3.981071705534938e-06, perc_outliers = 0.000%, ratio min = 39.000, ratio std = 12.497\n",
      "eps = 3.1622776601683546e-06, perc_outliers = 0.000%, ratio min = 39.000, ratio std = 12.497\n",
      "eps = 2.5118864315095573e-06, perc_outliers = 0.000%, ratio min = 39.000, ratio std = 12.497\n",
      "eps = 1.9952623149688592e-06, perc_outliers = 0.000%, ratio min = 40.000, ratio std = 12.579\n",
      "eps = 1.5848931924610984e-06, perc_outliers = 0.000%, ratio min = 40.000, ratio std = 12.579\n",
      "eps = 1.2589254117941564e-06, perc_outliers = 0.000%, ratio min = 42.000, ratio std = 12.660\n",
      "eps = 9.9999999999999e-07, perc_outliers = 0.000%, ratio min = 42.000, ratio std = 12.660\n",
      "eps = 7.943282347242727e-07, perc_outliers = 0.000%, ratio min = 42.000, ratio std = 12.660\n",
      "eps = 6.309573444801867e-07, perc_outliers = 0.000%, ratio min = 42.000, ratio std = 12.660\n",
      "eps = 5.011872336272675e-07, perc_outliers = 0.000%, ratio min = 42.000, ratio std = 12.660\n",
      "eps = 3.98107170553493e-07, perc_outliers = 0.000%, ratio min = 42.000, ratio std = 12.660\n",
      "eps = 3.1622776601683416e-07, perc_outliers = 0.000%, ratio min = 42.000, ratio std = 12.660\n",
      "eps = 2.511886431509552e-07, perc_outliers = 0.000%, ratio min = 43.000, ratio std = 12.856\n",
      "eps = 1.995262314968859e-07, perc_outliers = 0.000%, ratio min = 43.000, ratio std = 12.856\n",
      "eps = 1.5848931924610953e-07, perc_outliers = 0.000%, ratio min = 43.000, ratio std = 12.856\n",
      "eps = 1.2589254117941513e-07, perc_outliers = 0.000%, ratio min = 45.000, ratio std = 12.973\n",
      "eps = 9.999999999999882e-08, perc_outliers = 0.000%, ratio min = 45.000, ratio std = 12.973\n",
      "eps = 7.943282347242727e-08, perc_outliers = 0.000%, ratio min = 45.000, ratio std = 12.973\n",
      "eps = 6.309573444801856e-08, perc_outliers = 0.000%, ratio min = 45.000, ratio std = 12.973\n",
      "eps = 5.0118723362726555e-08, perc_outliers = 0.000%, ratio min = 45.000, ratio std = 12.973\n",
      "eps = 3.981071705534922e-08, perc_outliers = 0.000%, ratio min = 45.000, ratio std = 12.973\n",
      "eps = 3.162277660168342e-08, perc_outliers = 0.000%, ratio min = 46.000, ratio std = 12.787\n",
      "eps = 2.5118864315095473e-08, perc_outliers = 0.000%, ratio min = 46.000, ratio std = 12.787\n",
      "eps = 1.9952623149688512e-08, perc_outliers = 0.000%, ratio min = 46.000, ratio std = 12.787\n",
      "eps = 1.584893192461092e-08, perc_outliers = 0.000%, ratio min = 46.000, ratio std = 12.787\n",
      "eps = 1.2589254117941512e-08, perc_outliers = 0.000%, ratio min = 51.000, ratio std = 11.676\n",
      "eps = 9.999999999999841e-09, perc_outliers = 0.000%, ratio min = 51.000, ratio std = 11.676\n",
      "eps = 7.943282347242695e-09, perc_outliers = 0.000%, ratio min = 51.000, ratio std = 11.676\n",
      "eps = 6.309573444801843e-09, perc_outliers = 0.000%, ratio min = 51.000, ratio std = 11.676\n",
      "eps = 5.011872336272655e-09, perc_outliers = 0.000%, ratio min = 51.000, ratio std = 11.676\n",
      "eps = 3.981071705534923e-09, perc_outliers = 0.000%, ratio min = 51.000, ratio std = 11.676\n",
      "eps = 3.162277660168329e-09, perc_outliers = 0.000%, ratio min = 51.000, ratio std = 11.676\n",
      "eps = 2.5118864315095423e-09, perc_outliers = 0.000%, ratio min = 51.000, ratio std = 11.676\n",
      "eps = 1.9952623149688513e-09, perc_outliers = 0.000%, ratio min = 51.000, ratio std = 11.676\n",
      "eps = 1.5848931924610857e-09, perc_outliers = 0.000%, ratio min = 51.000, ratio std = 11.676\n",
      "eps = 1.2589254117941462e-09, perc_outliers = 0.000%, ratio min = 51.000, ratio std = 11.676\n",
      "eps = 9.999999999999841e-10, perc_outliers = 0.000%, ratio min = 51.000, ratio std = 11.676\n",
      "eps = 7.943282347242696e-10, perc_outliers = 0.000%, ratio min = 51.000, ratio std = 11.676\n",
      "eps = 6.309573444801843e-10, perc_outliers = 0.000%, ratio min = 51.000, ratio std = 11.676\n",
      "eps = 5.011872336272636e-10, perc_outliers = 0.000%, ratio min = 51.000, ratio std = 11.676\n",
      "eps = 3.9810717055349063e-10, perc_outliers = 0.000%, ratio min = 51.000, ratio std = 11.676\n",
      "eps = 3.1622776601683294e-10, perc_outliers = 0.000%, ratio min = 51.000, ratio std = 11.676\n",
      "eps = 2.5118864315095324e-10, perc_outliers = 0.000%, ratio min = 51.000, ratio std = 11.676\n",
      "eps = 1.995262314968843e-10, perc_outliers = 0.000%, ratio min = 51.000, ratio std = 11.676\n",
      "eps = 1.5848931924610858e-10, perc_outliers = 0.000%, ratio min = 58.000, ratio std = 10.017\n",
      "eps = 1.2589254117941463e-10, perc_outliers = 0.000%, ratio min = 58.000, ratio std = 10.017\n"
     ]
    }
   ],
   "source": [
    "for eps in 1e-1**(np.arange(1, 10, 0.1)):\n",
    "    selected_data = test_high_ratio[test_high_ratio[prob_test_col] < eps]\n",
    "    print ('eps = {}, perc_outliers = {:.3f}%, ratio min = {:.3f}, ratio std = {:.3f}'.format(eps,\n",
    "                                                                                              len(selected_data) / len(vendors_df) * 100,\n",
    "                                                                                              selected_data[ratio_test_col].min(),\n",
    "                                                                                              selected_data[ratio_test_col].std()))\n"
   ]
  },
  {
   "cell_type": "code",
   "execution_count": null,
   "metadata": {},
   "outputs": [],
   "source": [
    "eps = 0.03\n",
    "anomaly = high_ratio_values[high_ratio_values[prob_test_col] < eps]"
   ]
  },
  {
   "cell_type": "code",
   "execution_count": null,
   "metadata": {},
   "outputs": [],
   "source": [
    "anomaly.to_csv('anomaly_0.03_exploration.csv', index=False)"
   ]
  },
  {
   "cell_type": "code",
   "execution_count": null,
   "metadata": {},
   "outputs": [],
   "source": [
    "len(anomaly) / len(vendors_df) * 100"
   ]
  },
  {
   "cell_type": "code",
   "execution_count": null,
   "metadata": {},
   "outputs": [],
   "source": [
    "len(anomaly)"
   ]
  },
  {
   "cell_type": "code",
   "execution_count": null,
   "metadata": {},
   "outputs": [],
   "source": [
    "anomaly.june_may_cat_change_ratio.describe()"
   ]
  },
  {
   "cell_type": "code",
   "execution_count": null,
   "metadata": {},
   "outputs": [],
   "source": [
    "anomaly"
   ]
  }
 ],
 "metadata": {
  "kernelspec": {
   "display_name": "Python 3",
   "language": "python",
   "name": "python3"
  },
  "language_info": {
   "codemirror_mode": {
    "name": "ipython",
    "version": 3
   },
   "file_extension": ".py",
   "mimetype": "text/x-python",
   "name": "python",
   "nbconvert_exporter": "python",
   "pygments_lexer": "ipython3",
   "version": "3.7.7"
  }
 },
 "nbformat": 4,
 "nbformat_minor": 4
}
